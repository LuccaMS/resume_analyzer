{
 "cells": [
  {
   "cell_type": "code",
   "execution_count": 2,
   "id": "6a946e55",
   "metadata": {},
   "outputs": [],
   "source": [
    "from pydantic import BaseModel\n",
    "class QuestionResponse(BaseModel):\n",
    "    answer: str\n",
    "    details: list[str]"
   ]
  },
  {
   "cell_type": "code",
   "execution_count": 3,
   "id": "39b3d906",
   "metadata": {},
   "outputs": [],
   "source": [
    "a = QuestionResponse(answer=\"aaaabbb\", details= [\"aaaa\", \"bbbb\"])"
   ]
  },
  {
   "cell_type": "code",
   "execution_count": 7,
   "id": "5c03d886",
   "metadata": {},
   "outputs": [
    {
     "data": {
      "text/plain": [
       "{'answer': 'aaaabbb', 'details': ['aaaa', 'bbbb']}"
      ]
     },
     "execution_count": 7,
     "metadata": {},
     "output_type": "execute_result"
    }
   ],
   "source": [
    "a.model_dump()"
   ]
  }
 ],
 "metadata": {
  "kernelspec": {
   "display_name": "3.10.12",
   "language": "python",
   "name": "python3"
  },
  "language_info": {
   "codemirror_mode": {
    "name": "ipython",
    "version": 3
   },
   "file_extension": ".py",
   "mimetype": "text/x-python",
   "name": "python",
   "nbconvert_exporter": "python",
   "pygments_lexer": "ipython3",
   "version": "3.10.12"
  }
 },
 "nbformat": 4,
 "nbformat_minor": 5
}
