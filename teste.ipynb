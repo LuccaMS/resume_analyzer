{
 "cells": [
  {
   "cell_type": "code",
   "execution_count": null,
   "id": "b512f9ac",
   "metadata": {},
   "outputs": [],
   "source": [
    "from langchain_chroma import Chroma"
   ]
  },
  {
   "cell_type": "code",
   "execution_count": null,
   "id": "622f5127",
   "metadata": {},
   "outputs": [],
   "source": [
    "from langchain_huggingface import HuggingFaceEmbeddings"
   ]
  },
  {
   "cell_type": "code",
   "execution_count": null,
   "id": "8c41288c",
   "metadata": {},
   "outputs": [],
   "source": [
    "model_name = \"sentence-transformers/all-MiniLM-L6-v2\"\n",
    "model_kwargs = {'device': 'cuda'} #TODO mudar para cpu se não usar gpu (cuda)\n",
    "encode_kwargs = {'normalize_embeddings': False}\n",
    "embeddings = HuggingFaceEmbeddings(\n",
    "    model_name=model_name,\n",
    "    model_kwargs=model_kwargs,\n",
    "    encode_kwargs=encode_kwargs\n",
    ")"
   ]
  },
  {
   "cell_type": "code",
   "execution_count": null,
   "id": "ccc5d880",
   "metadata": {},
   "outputs": [],
   "source": [
    "vector_store = Chroma(\n",
    "    collection_name=\"rag_collection\",\n",
    "    embedding_function=embeddings,\n",
    "    persist_directory=\"./chroma_langchain_db\",\n",
    ")"
   ]
  },
  {
   "cell_type": "code",
   "execution_count": null,
   "id": "1787613d",
   "metadata": {},
   "outputs": [],
   "source": [
    "import os\n",
    "created_jsons = os.listdir(\"backend/resumes_processed\")"
   ]
  },
  {
   "cell_type": "code",
   "execution_count": null,
   "id": "82a1c365",
   "metadata": {},
   "outputs": [],
   "source": [
    "from backend.aux import load_json_with_jsonloader, chunk_documents"
   ]
  },
  {
   "cell_type": "code",
   "execution_count": null,
   "id": "813d249d",
   "metadata": {},
   "outputs": [],
   "source": [
    "import uuid"
   ]
  },
  {
   "cell_type": "code",
   "execution_count": null,
   "id": "05945881",
   "metadata": {},
   "outputs": [],
   "source": [
    "for file in created_jsons:\n",
    "    file_path = os.path.join(\"backend/resumes_processed\", file)\n",
    "    document = load_json_with_jsonloader(file_path)\n",
    "\n",
    "    doc_chunks = chunk_documents(documents=document, chunk_size=150, chunk_overlap=25) #small docs\n",
    "\n",
    "    uuids = [str(uuid.uuid4()) for _ in range(len(doc_chunks))]\n",
    "\n",
    "    vector_store.add_documents(documents=doc_chunks, ids=uuids)"
   ]
  },
  {
   "cell_type": "code",
   "execution_count": null,
   "id": "be802f47",
   "metadata": {},
   "outputs": [],
   "source": [
    "retriever = vector_store.as_retriever()\n",
    "from langchain.tools.retriever import create_retriever_tool\n",
    "retriever_tool = create_retriever_tool(\n",
    "    retriever=retriever,\n",
    "    name=\"retrieve_resumes\",\n",
    "    description=\"Search and return information about people resumes.\",\n",
    ")"
   ]
  },
  {
   "cell_type": "code",
   "execution_count": null,
   "id": "a1a32cb3",
   "metadata": {},
   "outputs": [],
   "source": [
    "{\n",
    "  \"answer\": \"### Justificativa da Classificação dos Candidatos:\\n\\nCom base na sua solicitação para contratar um desenvolvedor React, avaliei os currículos disponíveis e os classifiquei da seguinte forma:\\n\\n1.  **Larissa Pereira**\\n    *   **Pontos Fortes:** Larissa é a candidata mais adequada para a vaga de desenvolvedor React. Seu currículo destaca uma especialização clara em \\\"React e design responsivo\\\", e ela possui experiência como \\\"Frontend Developer\\\" na InovaData (2020-2021). Suas habilidades técnicas incluem explicitamente \\\"React\\\", além de outras tecnologias front-end essenciais como HTML, CSS, JavaScript, TailwindCSS e Figma, o que demonstra um perfil completo para a posição. Sua paixão por \\\"clean UI\\\" também é um diferencial para um desenvolvedor front-end.\\n    *   **Correspondência com a Vaga:** A descrição de suas habilidades e experiência se alinha perfeitamente com a necessidade de um desenvolvedor focado em React e interfaces de usuário.\\n\\n2.  **Lucca Machado**\\n    *   **Pontos Fortes:** Lucca também possui experiência relevante com React. Ele \\\"desenvolveu APIs com interfaces front-end usando React e Python\\\", o que indica uma capacidade de integrar o front-end com o back-end e uma compreensão mais ampla do ciclo de desenvolvimento. A menção de \\\"aprimorar a experiência do usuário e a funcionalidade do aplicativo\\\" mostra um foco em resultados práticos.\\n    *   **Correspondência com a Vaga:** Embora tenha experiência sólida com React, sua descrição sugere um perfil potencialmente mais full-stack (React e Python), o que é valioso, mas a Larissa se apresenta como mais especializada no ecossistema front-end React, que é o foco principal da sua busca. Ele seria uma excelente segunda opção, especialmente se houver necessidade de alguém com conhecimentos mais amplos em back-end no futuro.\\n\\n---\\n\\n**Arquivos de currículos utilizados:**\\n*   larissapereira.json\\n*   luccamachado.json\",\n",
    "  \"files\": [\n",
    "    \"larissapereira.json\",\n",
    "    \"luccamachado.json\"\n",
    "  ]\n",
    "}"
   ]
  }
 ],
 "metadata": {
  "kernelspec": {
   "display_name": "3.10.12",
   "language": "python",
   "name": "python3"
  },
  "language_info": {
   "codemirror_mode": {
    "name": "ipython",
    "version": 3
   },
   "file_extension": ".py",
   "mimetype": "text/x-python",
   "name": "python",
   "nbconvert_exporter": "python",
   "pygments_lexer": "ipython3",
   "version": "3.10.12"
  }
 },
 "nbformat": 4,
 "nbformat_minor": 5
}
